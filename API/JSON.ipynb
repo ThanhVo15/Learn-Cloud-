{
 "cells": [
  {
   "cell_type": "markdown",
   "id": "2fe64112",
   "metadata": {},
   "source": [
    "Dưới đây là loạt bài tập về JSON để bạn thực hành trong môi trường notebook (**ipynb**). Các bài tập tập trung vào việc xử lý dữ liệu JSON với Python, OOP, và lưu ra file CSV.\n",
    "\n",
    "---\n",
    "\n",
    "# 🚩 BÀI MẪU (Giải chi tiết):\n",
    "\n",
    "### 🔹 Đề bài mẫu\n",
    "\n",
    "**Cho một JSON chứa thông tin của các sinh viên như bên dưới:**\n",
    "\n",
    "```json\n",
    "[\n",
    "    {\"id\": \"SV001\", \"name\": \"Nguyen Van A\", \"scores\": {\"math\": 8.5, \"literature\": 7.0}},\n",
    "    {\"id\": \"SV002\", \"name\": \"Tran Thi B\", \"scores\": {\"math\": 9.0, \"literature\": 8.5}}\n",
    "]\n",
    "```\n",
    "\n",
    "**Yêu cầu:**\n",
    "\n",
    "* Đọc JSON.\n",
    "* Tính điểm trung bình từng sinh viên.\n",
    "* Xuất dữ liệu ra CSV gồm: `id, name, math, literature, average`.\n",
    "\n",
    "### ✅ Output mẫu (CSV):\n",
    "\n",
    "```\n",
    "id,name,math,literature,average\n",
    "SV001,Nguyen Van A,8.5,7.0,7.75\n",
    "SV002,Tran Thi B,9.0,8.5,8.75\n",
    "```\n",
    "\n",
    "### 🛠️ Cách giải:\n",
    "\n",
    "1. Dùng `json` để load dữ liệu JSON.\n",
    "2. Viết Class `Student` quản lý việc tính điểm trung bình.\n",
    "3. Dùng pandas để ghi ra file CSV."
   ]
  },
  {
   "cell_type": "code",
   "execution_count": 1,
   "id": "406949d1",
   "metadata": {},
   "outputs": [],
   "source": [
    "json_data = [\n",
    "    {\"id\": \"SV001\", \"name\": \"Nguyen Van A\", \"scores\": {\"math\": 8.5, \"literature\": 7.0}},\n",
    "    {\"id\": \"SV002\", \"name\": \"Tran Thi B\", \"scores\": {\"math\": 9.0, \"literature\": 8.5}}\n",
    "]"
   ]
  },
  {
   "cell_type": "code",
   "execution_count": 4,
   "id": "d8c114e1",
   "metadata": {},
   "outputs": [
    {
     "data": {
      "application/vnd.microsoft.datawrangler.viewer.v0+json": {
       "columns": [
        {
         "name": "index",
         "rawType": "int64",
         "type": "integer"
        },
        {
         "name": "id",
         "rawType": "object",
         "type": "string"
        },
        {
         "name": "name",
         "rawType": "object",
         "type": "string"
        },
        {
         "name": "math",
         "rawType": "float64",
         "type": "float"
        },
        {
         "name": "literature",
         "rawType": "float64",
         "type": "float"
        },
        {
         "name": "average",
         "rawType": "float64",
         "type": "float"
        }
       ],
       "ref": "30cd3392-dd1a-4427-b4dc-3f3908deb489",
       "rows": [
        [
         "0",
         "SV001",
         "Nguyen Van A",
         "8.5",
         "7.0",
         "7.75"
        ],
        [
         "1",
         "SV002",
         "Tran Thi B",
         "9.0",
         "8.5",
         "8.75"
        ]
       ],
       "shape": {
        "columns": 5,
        "rows": 2
       }
      },
      "text/html": [
       "<div>\n",
       "<style scoped>\n",
       "    .dataframe tbody tr th:only-of-type {\n",
       "        vertical-align: middle;\n",
       "    }\n",
       "\n",
       "    .dataframe tbody tr th {\n",
       "        vertical-align: top;\n",
       "    }\n",
       "\n",
       "    .dataframe thead th {\n",
       "        text-align: right;\n",
       "    }\n",
       "</style>\n",
       "<table border=\"1\" class=\"dataframe\">\n",
       "  <thead>\n",
       "    <tr style=\"text-align: right;\">\n",
       "      <th></th>\n",
       "      <th>id</th>\n",
       "      <th>name</th>\n",
       "      <th>math</th>\n",
       "      <th>literature</th>\n",
       "      <th>average</th>\n",
       "    </tr>\n",
       "  </thead>\n",
       "  <tbody>\n",
       "    <tr>\n",
       "      <th>0</th>\n",
       "      <td>SV001</td>\n",
       "      <td>Nguyen Van A</td>\n",
       "      <td>8.5</td>\n",
       "      <td>7.0</td>\n",
       "      <td>7.75</td>\n",
       "    </tr>\n",
       "    <tr>\n",
       "      <th>1</th>\n",
       "      <td>SV002</td>\n",
       "      <td>Tran Thi B</td>\n",
       "      <td>9.0</td>\n",
       "      <td>8.5</td>\n",
       "      <td>8.75</td>\n",
       "    </tr>\n",
       "  </tbody>\n",
       "</table>\n",
       "</div>"
      ],
      "text/plain": [
       "      id          name  math  literature  average\n",
       "0  SV001  Nguyen Van A   8.5         7.0     7.75\n",
       "1  SV002    Tran Thi B   9.0         8.5     8.75"
      ]
     },
     "execution_count": 4,
     "metadata": {},
     "output_type": "execute_result"
    }
   ],
   "source": [
    "import json\n",
    "import pandas as pd\n",
    "\n",
    "class Student:\n",
    "    def __init__(self, student_dict):\n",
    "        self.id = student_dict[\"id\"]\n",
    "        self.name = student_dict[\"name\"]\n",
    "        self.math = student_dict[\"scores\"][\"math\"]\n",
    "        self.literature = student_dict[\"scores\"][\"literature\"]\n",
    "        self.average = None\n",
    "\n",
    "    def cal_avg(self):\n",
    "        self.average =  (self.math + self.literature)/2\n",
    "        return self.average\n",
    "    \n",
    "    def to_dict(self):\n",
    "        return {\n",
    "            'id' : self.id,\n",
    "            'name' : self.name,\n",
    "            'math': self.math,\n",
    "            'literature' : self.literature,\n",
    "            'average' : self.average\n",
    "        }\n",
    "\n",
    "students = []\n",
    "\n",
    "for items in json_data:\n",
    "    student = Student(items)\n",
    "    student.cal_avg()\n",
    "    row = student.to_dict()\n",
    "    students.append(row)\n",
    "\n",
    "df = pd.DataFrame(students)\n",
    "df\n"
   ]
  },
  {
   "cell_type": "markdown",
   "id": "b990235f",
   "metadata": {},
   "source": [
    "---\n",
    "\n",
    "## 📚 Các bài thực hành cho bạn luyện tập:\n",
    "\n",
    "---\n",
    "\n",
    "# 🟢 **CẤP ĐỘ DỄ**\n",
    "\n",
    "### 🔸 Bài dễ 1:\n",
    "\n",
    "**Đề bài:**\n",
    "Bạn được cung cấp JSON chứa danh sách các món ăn và giá tiền.\n",
    "\n",
    "```json\n",
    "[\n",
    "    {\"food\": \"Bánh mì\", \"price\": 15000},\n",
    "    {\"food\": \"Phở\", \"price\": 35000},\n",
    "    {\"food\": \"Bún bò\", \"price\": 40000}\n",
    "]\n",
    "```\n",
    "\n",
    "**Yêu cầu:**\n",
    "Chuyển sang CSV và thêm cột VAT (10%), tính tổng giá (price + VAT).\n",
    "\n",
    "**Output mẫu CSV:**\n",
    "\n",
    "```\n",
    "food,price,VAT,total\n",
    "Bánh mì,15000,1500,16500\n",
    "Phở,35000,3500,38500\n",
    "Bún bò,40000,4000,44000\n",
    "```"
   ]
  },
  {
   "cell_type": "code",
   "execution_count": 11,
   "id": "89bf11a8",
   "metadata": {},
   "outputs": [],
   "source": [
    "json_data = [\n",
    "    {\"food\": \"Bánh mì\", \"price\": 15000},\n",
    "    {\"food\": \"Phở\", \"price\": 35000},\n",
    "    {\"food\": \"Bún bò\", \"price\": 40000}\n",
    "]"
   ]
  },
  {
   "cell_type": "code",
   "execution_count": 13,
   "id": "c286f0fb",
   "metadata": {},
   "outputs": [
    {
     "data": {
      "application/vnd.microsoft.datawrangler.viewer.v0+json": {
       "columns": [
        {
         "name": "index",
         "rawType": "int64",
         "type": "integer"
        },
        {
         "name": "food",
         "rawType": "object",
         "type": "string"
        },
        {
         "name": "price",
         "rawType": "int64",
         "type": "integer"
        },
        {
         "name": "vat",
         "rawType": "float64",
         "type": "float"
        },
        {
         "name": "total",
         "rawType": "float64",
         "type": "float"
        }
       ],
       "ref": "ad6ebe51-2e5f-425a-885a-9b039fa6e0ed",
       "rows": [
        [
         "0",
         "Bánh mì",
         "15000",
         "1500.0",
         "16500.0"
        ],
        [
         "1",
         "Phở",
         "35000",
         "3500.0",
         "38500.0"
        ],
        [
         "2",
         "Bún bò",
         "40000",
         "4000.0",
         "44000.0"
        ]
       ],
       "shape": {
        "columns": 4,
        "rows": 3
       }
      },
      "text/html": [
       "<div>\n",
       "<style scoped>\n",
       "    .dataframe tbody tr th:only-of-type {\n",
       "        vertical-align: middle;\n",
       "    }\n",
       "\n",
       "    .dataframe tbody tr th {\n",
       "        vertical-align: top;\n",
       "    }\n",
       "\n",
       "    .dataframe thead th {\n",
       "        text-align: right;\n",
       "    }\n",
       "</style>\n",
       "<table border=\"1\" class=\"dataframe\">\n",
       "  <thead>\n",
       "    <tr style=\"text-align: right;\">\n",
       "      <th></th>\n",
       "      <th>food</th>\n",
       "      <th>price</th>\n",
       "      <th>vat</th>\n",
       "      <th>total</th>\n",
       "    </tr>\n",
       "  </thead>\n",
       "  <tbody>\n",
       "    <tr>\n",
       "      <th>0</th>\n",
       "      <td>Bánh mì</td>\n",
       "      <td>15000</td>\n",
       "      <td>1500.0</td>\n",
       "      <td>16500.0</td>\n",
       "    </tr>\n",
       "    <tr>\n",
       "      <th>1</th>\n",
       "      <td>Phở</td>\n",
       "      <td>35000</td>\n",
       "      <td>3500.0</td>\n",
       "      <td>38500.0</td>\n",
       "    </tr>\n",
       "    <tr>\n",
       "      <th>2</th>\n",
       "      <td>Bún bò</td>\n",
       "      <td>40000</td>\n",
       "      <td>4000.0</td>\n",
       "      <td>44000.0</td>\n",
       "    </tr>\n",
       "  </tbody>\n",
       "</table>\n",
       "</div>"
      ],
      "text/plain": [
       "      food  price     vat    total\n",
       "0  Bánh mì  15000  1500.0  16500.0\n",
       "1      Phở  35000  3500.0  38500.0\n",
       "2   Bún bò  40000  4000.0  44000.0"
      ]
     },
     "execution_count": 13,
     "metadata": {},
     "output_type": "execute_result"
    }
   ],
   "source": [
    "import json\n",
    "import pandas as pd\n",
    "\n",
    "class Food:\n",
    "    def __init__(self, json_data):\n",
    "        self.food = json_data[\"food\"]\n",
    "        self.price = json_data[\"price\"]\n",
    "        self.vat = None\n",
    "        self.total = None\n",
    "    \n",
    "    def cal_vat(self):\n",
    "        self.vat = self.price *0.1\n",
    "        return self.vat\n",
    "    def cal_total(self):\n",
    "        self.total = self.vat + self.price\n",
    "        return self.total\n",
    "    def to_dict(self):\n",
    "        return {\n",
    "            \"food\": self.food,\n",
    "            \"price\": self.price,\n",
    "            \"vat\": self.vat,\n",
    "            \"total\": self.total\n",
    "        }\n",
    "    \n",
    "foods = []\n",
    "\n",
    "for item in json_data:\n",
    "    oop = Food(item)\n",
    "    oop.cal_vat()\n",
    "    oop.cal_total()\n",
    "    row = oop.to_dict()\n",
    "    foods.append(row)\n",
    "\n",
    "df = pd.DataFrame(foods)\n",
    "df\n"
   ]
  },
  {
   "cell_type": "markdown",
   "id": "3fb22cd0",
   "metadata": {},
   "source": [
    "---\n",
    "\n",
    "### 🔸 Bài dễ 2:\n",
    "\n",
    "**Đề bài:**\n",
    "JSON chứa thông tin thời tiết theo ngày.\n",
    "\n",
    "```json\n",
    "{\n",
    "    \"city\": \"Da Lat\",\n",
    "    \"forecast\": [\n",
    "        {\"day\": \"Monday\", \"temp\": 20},\n",
    "        {\"day\": \"Tuesday\", \"temp\": 21},\n",
    "        {\"day\": \"Wednesday\", \"temp\": 19}\n",
    "    ]\n",
    "}\n",
    "```\n",
    "\n",
    "**Yêu cầu:**\n",
    "Xuất ra CSV với 3 cột: city, day, temp.\n",
    "\n",
    "**Output mẫu CSV:**\n",
    "\n",
    "```\n",
    "city,day,temp\n",
    "Da Lat,Monday,20\n",
    "Da Lat,Tuesday,21\n",
    "Da Lat,Wednesday,19\n",
    "```\n",
    "\n"
   ]
  },
  {
   "cell_type": "code",
   "execution_count": null,
   "id": "44fd20ff",
   "metadata": {},
   "outputs": [
    {
     "data": {
      "application/vnd.microsoft.datawrangler.viewer.v0+json": {
       "columns": [
        {
         "name": "index",
         "rawType": "int64",
         "type": "integer"
        },
        {
         "name": "city",
         "rawType": "object",
         "type": "string"
        },
        {
         "name": "day",
         "rawType": "object",
         "type": "string"
        },
        {
         "name": "temp",
         "rawType": "int64",
         "type": "integer"
        }
       ],
       "ref": "0dc132a5-cda2-4685-a38f-aa7acacc6d1e",
       "rows": [
        [
         "0",
         "Da Lat",
         "Monday",
         "20"
        ],
        [
         "1",
         "Da Lat",
         "Tuesday",
         "21"
        ],
        [
         "2",
         "Da Lat",
         "Wednesday",
         "19"
        ]
       ],
       "shape": {
        "columns": 3,
        "rows": 3
       }
      },
      "text/html": [
       "<div>\n",
       "<style scoped>\n",
       "    .dataframe tbody tr th:only-of-type {\n",
       "        vertical-align: middle;\n",
       "    }\n",
       "\n",
       "    .dataframe tbody tr th {\n",
       "        vertical-align: top;\n",
       "    }\n",
       "\n",
       "    .dataframe thead th {\n",
       "        text-align: right;\n",
       "    }\n",
       "</style>\n",
       "<table border=\"1\" class=\"dataframe\">\n",
       "  <thead>\n",
       "    <tr style=\"text-align: right;\">\n",
       "      <th></th>\n",
       "      <th>city</th>\n",
       "      <th>day</th>\n",
       "      <th>temp</th>\n",
       "    </tr>\n",
       "  </thead>\n",
       "  <tbody>\n",
       "    <tr>\n",
       "      <th>0</th>\n",
       "      <td>Da Lat</td>\n",
       "      <td>Monday</td>\n",
       "      <td>20</td>\n",
       "    </tr>\n",
       "    <tr>\n",
       "      <th>1</th>\n",
       "      <td>Da Lat</td>\n",
       "      <td>Tuesday</td>\n",
       "      <td>21</td>\n",
       "    </tr>\n",
       "    <tr>\n",
       "      <th>2</th>\n",
       "      <td>Da Lat</td>\n",
       "      <td>Wednesday</td>\n",
       "      <td>19</td>\n",
       "    </tr>\n",
       "  </tbody>\n",
       "</table>\n",
       "</div>"
      ],
      "text/plain": [
       "     city        day  temp\n",
       "0  Da Lat     Monday    20\n",
       "1  Da Lat    Tuesday    21\n",
       "2  Da Lat  Wednesday    19"
      ]
     },
     "execution_count": 3,
     "metadata": {},
     "output_type": "execute_result"
    }
   ],
   "source": [
    "\n",
    "\n",
    "import json\n",
    "import pandas as pd\n",
    "\n",
    "class DaLat:\n",
    "    def __init__(self, city, forecast):\n",
    "        self.city = city\n",
    "        self.day = forecast[\"day\"]\n",
    "        self.temp = forecast[\"temp\"]\n",
    "\n",
    "    def to_dict(self):\n",
    "        return {\n",
    "            \"city\" : self.city,\n",
    "            \"day\" : self.day,\n",
    "            \"temp\" : self.temp\n",
    "        }\n",
    "\n",
    "data = []\n",
    "\n",
    "for forecast in json_data[\"forecast\"]:\n",
    "    oop = DaLat(json_data[\"city\"], forecast)\n",
    "    data.append(oop.to_dict())\n",
    "\n",
    "\n",
    "df = pd.DataFrame(data)\n",
    "df"
   ]
  },
  {
   "cell_type": "markdown",
   "id": "e04d6b15",
   "metadata": {},
   "source": [
    "---\n",
    "\n",
    "# 🟡 **CẤP ĐỘ TRUNG BÌNH**\n",
    "\n",
    "### 🔸 Bài trung bình 1:\n",
    "\n",
    "**Đề bài:**\n",
    "JSON gồm các đơn hàng.\n",
    "\n",
    "```json\n",
    "[\n",
    "    {\"order_id\": \"DH001\", \"customer\": {\"name\": \"Anh Tu\", \"age\": 25}, \"amount\": 250000},\n",
    "    {\"order_id\": \"DH002\", \"customer\": {\"name\": \"Chi Lan\", \"age\": 30}, \"amount\": 180000}\n",
    "]\n",
    "```\n",
    "\n",
    "**Yêu cầu:**\n",
    "\n",
    "* Xuất ra CSV gồm: order\\_id, customer\\_name, customer\\_age, amount.\n",
    "* Thêm cột discount: nếu amount > 200k, discount 10%, còn lại 5%.\n",
    "\n",
    "**Output mẫu CSV:**\n",
    "\n",
    "```\n",
    "order_id,customer_name,customer_age,amount,discount\n",
    "DH001,Anh Tu,25,250000,25000\n",
    "DH002,Chi Lan,30,180000,9000\n",
    "```\n",
    "\n",
    "---\n"
   ]
  },
  {
   "cell_type": "code",
   "execution_count": 8,
   "id": "dcd63279",
   "metadata": {},
   "outputs": [
    {
     "data": {
      "application/vnd.microsoft.datawrangler.viewer.v0+json": {
       "columns": [
        {
         "name": "index",
         "rawType": "int64",
         "type": "integer"
        },
        {
         "name": "order_id",
         "rawType": "object",
         "type": "string"
        },
        {
         "name": "customer_name",
         "rawType": "object",
         "type": "string"
        },
        {
         "name": "customer_age",
         "rawType": "int64",
         "type": "integer"
        },
        {
         "name": "amount",
         "rawType": "int64",
         "type": "integer"
        },
        {
         "name": "discount",
         "rawType": "float64",
         "type": "float"
        }
       ],
       "ref": "65f7d887-3025-45e1-b753-a2adc9153374",
       "rows": [
        [
         "0",
         "DH001",
         "Anh Tu",
         "25",
         "250000",
         "225000.0"
        ],
        [
         "1",
         "DH002",
         "Chi Lan",
         "30",
         "180000",
         "171000.0"
        ]
       ],
       "shape": {
        "columns": 5,
        "rows": 2
       }
      },
      "text/html": [
       "<div>\n",
       "<style scoped>\n",
       "    .dataframe tbody tr th:only-of-type {\n",
       "        vertical-align: middle;\n",
       "    }\n",
       "\n",
       "    .dataframe tbody tr th {\n",
       "        vertical-align: top;\n",
       "    }\n",
       "\n",
       "    .dataframe thead th {\n",
       "        text-align: right;\n",
       "    }\n",
       "</style>\n",
       "<table border=\"1\" class=\"dataframe\">\n",
       "  <thead>\n",
       "    <tr style=\"text-align: right;\">\n",
       "      <th></th>\n",
       "      <th>order_id</th>\n",
       "      <th>customer_name</th>\n",
       "      <th>customer_age</th>\n",
       "      <th>amount</th>\n",
       "      <th>discount</th>\n",
       "    </tr>\n",
       "  </thead>\n",
       "  <tbody>\n",
       "    <tr>\n",
       "      <th>0</th>\n",
       "      <td>DH001</td>\n",
       "      <td>Anh Tu</td>\n",
       "      <td>25</td>\n",
       "      <td>250000</td>\n",
       "      <td>225000.0</td>\n",
       "    </tr>\n",
       "    <tr>\n",
       "      <th>1</th>\n",
       "      <td>DH002</td>\n",
       "      <td>Chi Lan</td>\n",
       "      <td>30</td>\n",
       "      <td>180000</td>\n",
       "      <td>171000.0</td>\n",
       "    </tr>\n",
       "  </tbody>\n",
       "</table>\n",
       "</div>"
      ],
      "text/plain": [
       "  order_id customer_name  customer_age  amount  discount\n",
       "0    DH001        Anh Tu            25  250000  225000.0\n",
       "1    DH002       Chi Lan            30  180000  171000.0"
      ]
     },
     "execution_count": 8,
     "metadata": {},
     "output_type": "execute_result"
    }
   ],
   "source": [
    "json_data = [\n",
    "    {\"order_id\": \"DH001\", \"customer\": {\"name\": \"Anh Tu\", \"age\": 25}, \"amount\": 250000},\n",
    "    {\"order_id\": \"DH002\", \"customer\": {\"name\": \"Chi Lan\", \"age\": 30}, \"amount\": 180000}\n",
    "]\n",
    "\n",
    "import json\n",
    "import pandas as pd\n",
    "\n",
    "class Order:\n",
    "    def __init__(self, order):\n",
    "        self.order_id = order['order_id']\n",
    "        self.customer_name = order['customer']['name']\n",
    "        self.customer_age = order['customer']['age']\n",
    "        self.amount = order['amount']\n",
    "        self.discount = self.cal_discount()\n",
    "\n",
    "    def cal_discount(self):\n",
    "        if self.amount > 200000:\n",
    "            self.discount = self.amount *0.9\n",
    "        else:\n",
    "            self.discount = self.amount * 0.95\n",
    "        return self.discount\n",
    "    def to_dict(self):\n",
    "        return {\n",
    "            'order_id' : self.order_id,\n",
    "            'customer_name' : self.customer_name,\n",
    "            'customer_age' : self.customer_age,\n",
    "            'amount' : self.amount,\n",
    "            'discount' : self.discount\n",
    "        }\n",
    "data = []\n",
    "len_json = len(json_data)\n",
    "\n",
    "for i in range(0, len_json):\n",
    "    order = json_data[i]\n",
    "    oop = Order(order)\n",
    "    data.append(oop.to_dict())\n",
    "\n",
    "df = pd.DataFrame(data)\n",
    "df"
   ]
  },
  {
   "cell_type": "markdown",
   "id": "cc1f7c91",
   "metadata": {},
   "source": [
    "### 🔸 Bài trung bình 2:\n",
    "\n",
    "**Đề bài:**\n",
    "JSON mô tả điểm thi các môn của học sinh:\n",
    "\n",
    "```json\n",
    "[\n",
    "    {\"name\": \"Lan\", \"subjects\": {\"math\": 9, \"physics\": 8, \"chemistry\": 7}},\n",
    "    {\"name\": \"Nam\", \"subjects\": {\"math\": 6, \"physics\": 7, \"chemistry\": 9}}\n",
    "]\n",
    "```\n",
    "\n",
    "**Yêu cầu:**\n",
    "\n",
    "* Tính tổng điểm mỗi học sinh.\n",
    "* Xuất ra CSV: name, math, physics, chemistry, total.\n",
    "\n",
    "**Output mẫu CSV:**\n",
    "\n",
    "```\n",
    "name,math,physics,chemistry,total\n",
    "Lan,9,8,7,24\n",
    "Nam,6,7,9,22\n",
    "```"
   ]
  },
  {
   "cell_type": "code",
   "execution_count": 9,
   "id": "2e154bb5",
   "metadata": {},
   "outputs": [
    {
     "data": {
      "application/vnd.microsoft.datawrangler.viewer.v0+json": {
       "columns": [
        {
         "name": "index",
         "rawType": "int64",
         "type": "integer"
        },
        {
         "name": "name",
         "rawType": "object",
         "type": "string"
        },
        {
         "name": "math",
         "rawType": "int64",
         "type": "integer"
        },
        {
         "name": "physics",
         "rawType": "int64",
         "type": "integer"
        },
        {
         "name": "chemistry",
         "rawType": "int64",
         "type": "integer"
        },
        {
         "name": "total",
         "rawType": "int64",
         "type": "integer"
        }
       ],
       "ref": "be55863a-db17-42f3-9e86-bf740eca6da6",
       "rows": [
        [
         "0",
         "Lan",
         "9",
         "8",
         "7",
         "24"
        ],
        [
         "1",
         "Nam",
         "6",
         "7",
         "9",
         "22"
        ]
       ],
       "shape": {
        "columns": 5,
        "rows": 2
       }
      },
      "text/html": [
       "<div>\n",
       "<style scoped>\n",
       "    .dataframe tbody tr th:only-of-type {\n",
       "        vertical-align: middle;\n",
       "    }\n",
       "\n",
       "    .dataframe tbody tr th {\n",
       "        vertical-align: top;\n",
       "    }\n",
       "\n",
       "    .dataframe thead th {\n",
       "        text-align: right;\n",
       "    }\n",
       "</style>\n",
       "<table border=\"1\" class=\"dataframe\">\n",
       "  <thead>\n",
       "    <tr style=\"text-align: right;\">\n",
       "      <th></th>\n",
       "      <th>name</th>\n",
       "      <th>math</th>\n",
       "      <th>physics</th>\n",
       "      <th>chemistry</th>\n",
       "      <th>total</th>\n",
       "    </tr>\n",
       "  </thead>\n",
       "  <tbody>\n",
       "    <tr>\n",
       "      <th>0</th>\n",
       "      <td>Lan</td>\n",
       "      <td>9</td>\n",
       "      <td>8</td>\n",
       "      <td>7</td>\n",
       "      <td>24</td>\n",
       "    </tr>\n",
       "    <tr>\n",
       "      <th>1</th>\n",
       "      <td>Nam</td>\n",
       "      <td>6</td>\n",
       "      <td>7</td>\n",
       "      <td>9</td>\n",
       "      <td>22</td>\n",
       "    </tr>\n",
       "  </tbody>\n",
       "</table>\n",
       "</div>"
      ],
      "text/plain": [
       "  name  math  physics  chemistry  total\n",
       "0  Lan     9        8          7     24\n",
       "1  Nam     6        7          9     22"
      ]
     },
     "execution_count": 9,
     "metadata": {},
     "output_type": "execute_result"
    }
   ],
   "source": [
    "json_data = [\n",
    "    {\"name\": \"Lan\", \"subjects\": {\"math\": 9, \"physics\": 8, \"chemistry\": 7}},\n",
    "    {\"name\": \"Nam\", \"subjects\": {\"math\": 6, \"physics\": 7, \"chemistry\": 9}}\n",
    "]\n",
    "\n",
    "import json\n",
    "import pandas as pd\n",
    "\n",
    "class Class:\n",
    "    def __init__(self, student):\n",
    "        self.name = student['name']\n",
    "        self.math = student['subjects']['math']\n",
    "        self.physics = student['subjects']['physics']\n",
    "        self.chemistry = student['subjects']['chemistry']\n",
    "        self.total = self.cal_total()\n",
    "\n",
    "    def cal_total(self):\n",
    "        self.total = self.math + self.physics + self.chemistry\n",
    "        return self.total\n",
    "    def to_dict(self):\n",
    "        return {\n",
    "            'name': self.name,\n",
    "            'math' : self.math,\n",
    "            'physics' : self.physics,\n",
    "            'chemistry' : self.chemistry,\n",
    "            'total' : self.total\n",
    "        }\n",
    "\n",
    "len_json = len(json_data)\n",
    "data = []\n",
    "\n",
    "for i in range(0, len_json):\n",
    "    oop = Class(json_data[i])\n",
    "    data.append(oop.to_dict())\n",
    "\n",
    "df = pd.DataFrame(data)\n",
    "df"
   ]
  },
  {
   "cell_type": "markdown",
   "id": "d43981e1",
   "metadata": {},
   "source": [
    "---\n",
    "\n",
    "### 🔸 Bài trung bình 3:\n",
    "\n",
    "**Đề bài:**\n",
    "JSON dạng nested sâu hơn:\n",
    "\n",
    "```json\n",
    "{\n",
    "    \"company\": \"XYZ Tech\",\n",
    "    \"employees\": [\n",
    "        {\"id\": 1, \"info\": {\"name\": \"John Doe\", \"skills\": [\"Python\", \"SQL\"]}},\n",
    "        {\"id\": 2, \"info\": {\"name\": \"Jane Smith\", \"skills\": [\"Java\", \"AWS\", \"Docker\"]}}\n",
    "    ]\n",
    "}\n",
    "```\n",
    "\n",
    "**Yêu cầu:**\n",
    "\n",
    "* Xuất CSV gồm: company, employee\\_id, employee\\_name, skills (skills là chuỗi nối bằng `|`).\n",
    "\n",
    "**Output mẫu CSV:**\n",
    "\n",
    "```\n",
    "company,employee_id,employee_name,skills\n",
    "XYZ Tech,1,John Doe,Python|SQL\n",
    "XYZ Tech,2,Jane Smith,Java|AWS|Docker\n",
    "```\n"
   ]
  },
  {
   "cell_type": "code",
   "execution_count": 13,
   "id": "3d6f2ee1",
   "metadata": {},
   "outputs": [
    {
     "data": {
      "application/vnd.microsoft.datawrangler.viewer.v0+json": {
       "columns": [
        {
         "name": "index",
         "rawType": "int64",
         "type": "integer"
        },
        {
         "name": "company",
         "rawType": "object",
         "type": "string"
        },
        {
         "name": "employee_id",
         "rawType": "int64",
         "type": "integer"
        },
        {
         "name": "employee_name",
         "rawType": "object",
         "type": "string"
        },
        {
         "name": "skills",
         "rawType": "object",
         "type": "string"
        }
       ],
       "ref": "215e1d13-3629-4ee0-8f55-867766baff44",
       "rows": [
        [
         "0",
         "XYZ Tech",
         "1",
         "John Doe",
         "Python | SQL"
        ],
        [
         "1",
         "XYZ Tech",
         "2",
         "Jane Smith",
         "Java | AWS | Docker"
        ]
       ],
       "shape": {
        "columns": 4,
        "rows": 2
       }
      },
      "text/html": [
       "<div>\n",
       "<style scoped>\n",
       "    .dataframe tbody tr th:only-of-type {\n",
       "        vertical-align: middle;\n",
       "    }\n",
       "\n",
       "    .dataframe tbody tr th {\n",
       "        vertical-align: top;\n",
       "    }\n",
       "\n",
       "    .dataframe thead th {\n",
       "        text-align: right;\n",
       "    }\n",
       "</style>\n",
       "<table border=\"1\" class=\"dataframe\">\n",
       "  <thead>\n",
       "    <tr style=\"text-align: right;\">\n",
       "      <th></th>\n",
       "      <th>company</th>\n",
       "      <th>employee_id</th>\n",
       "      <th>employee_name</th>\n",
       "      <th>skills</th>\n",
       "    </tr>\n",
       "  </thead>\n",
       "  <tbody>\n",
       "    <tr>\n",
       "      <th>0</th>\n",
       "      <td>XYZ Tech</td>\n",
       "      <td>1</td>\n",
       "      <td>John Doe</td>\n",
       "      <td>Python | SQL</td>\n",
       "    </tr>\n",
       "    <tr>\n",
       "      <th>1</th>\n",
       "      <td>XYZ Tech</td>\n",
       "      <td>2</td>\n",
       "      <td>Jane Smith</td>\n",
       "      <td>Java | AWS | Docker</td>\n",
       "    </tr>\n",
       "  </tbody>\n",
       "</table>\n",
       "</div>"
      ],
      "text/plain": [
       "    company  employee_id employee_name               skills\n",
       "0  XYZ Tech            1      John Doe         Python | SQL\n",
       "1  XYZ Tech            2    Jane Smith  Java | AWS | Docker"
      ]
     },
     "execution_count": 13,
     "metadata": {},
     "output_type": "execute_result"
    }
   ],
   "source": [
    "json_data = {\n",
    "    \"company\": \"XYZ Tech\",\n",
    "    \"employees\": [\n",
    "        {\"id\": 1, \"info\": {\"name\": \"John Doe\", \"skills\": [\"Python\", \"SQL\"]}},\n",
    "        {\"id\": 2, \"info\": {\"name\": \"Jane Smith\", \"skills\": [\"Java\", \"AWS\", \"Docker\"]}}\n",
    "    ]\n",
    "}\n",
    "\n",
    "import pandas as pd\n",
    "\n",
    "class Company:\n",
    "    def __init__(self, company, employess):\n",
    "        self.company = company\n",
    "        self.employee_id = employess['id']\n",
    "        self.employee_name = employess['info']['name']\n",
    "        self.skills = \" | \".join(employess['info']['skills'])\n",
    "    \n",
    "    \n",
    "    def to_dataframe(company, employess):\n",
    "        data = []\n",
    "        for emp in employess:\n",
    "            obj = Company(company, emp)\n",
    "            data.append({\n",
    "            'company' : obj.company,\n",
    "            'employee_id' : obj.employee_id,\n",
    "            'employee_name': obj.employee_name,\n",
    "            'skills': obj.skills\n",
    "        })\n",
    "        return pd.DataFrame(data)\n",
    "    \n",
    "df = Company.to_dataframe(json_data['company'], json_data['employees'])\n",
    "df\n",
    "    \n"
   ]
  },
  {
   "cell_type": "markdown",
   "id": "60acc36f",
   "metadata": {},
   "source": [
    "---\n",
    "\n",
    "# 🔴 **CẤP ĐỘ KHÓ**\n",
    "\n",
    "### 🔸 Bài khó:\n",
    "\n",
    "**Đề bài:**\n",
    "Bạn có một file JSON phức tạp hơn, chứa nhiều đơn hàng với các sản phẩm khác nhau. Mỗi đơn hàng có thể chứa nhiều sản phẩm.\n",
    "\n",
    "```json\n",
    "[\n",
    "    {\n",
    "        \"order_id\": \"O1001\",\n",
    "        \"customer\": \"Minh\",\n",
    "        \"items\": [\n",
    "            {\"product\": \"Milk\", \"qty\": 2, \"unit_price\": 30000},\n",
    "            {\"product\": \"Eggs\", \"qty\": 1, \"unit_price\": 50000}\n",
    "        ]\n",
    "    },\n",
    "    {\n",
    "        \"order_id\": \"O1002\",\n",
    "        \"customer\": \"An\",\n",
    "        \"items\": [\n",
    "            {\"product\": \"Bread\", \"qty\": 3, \"unit_price\": 20000}\n",
    "        ]\n",
    "    }\n",
    "]\n",
    "```\n",
    "\n",
    "**Yêu cầu:**\n",
    "\n",
    "* Dùng OOP: class `Order`, method tính tổng đơn hàng.\n",
    "* Xuất CSV: order\\_id, customer, total\\_amount, products (các tên sản phẩm nối bằng `,`).\n",
    "\n",
    "**Output mẫu CSV:**\n",
    "\n",
    "```\n",
    "order_id,customer,total_amount,products\n",
    "O1001,Minh,110000,Milk,Eggs\n",
    "O1002,An,60000,Bread\n",
    "```"
   ]
  },
  {
   "cell_type": "code",
   "execution_count": 18,
   "id": "28feb9a5",
   "metadata": {},
   "outputs": [
    {
     "data": {
      "application/vnd.microsoft.datawrangler.viewer.v0+json": {
       "columns": [
        {
         "name": "index",
         "rawType": "int64",
         "type": "integer"
        },
        {
         "name": "order_id",
         "rawType": "object",
         "type": "string"
        },
        {
         "name": "customer",
         "rawType": "object",
         "type": "string"
        },
        {
         "name": "total_product",
         "rawType": "int64",
         "type": "integer"
        },
        {
         "name": "total_amount",
         "rawType": "int64",
         "type": "integer"
        },
        {
         "name": "products",
         "rawType": "object",
         "type": "string"
        }
       ],
       "ref": "c0a01c5b-5803-4e30-8084-18a5afad9d38",
       "rows": [
        [
         "0",
         "O1001",
         "Minh",
         "2",
         "110000",
         "Milk,Eggs"
        ],
        [
         "1",
         "O1002",
         "An",
         "1",
         "60000",
         "Bread"
        ]
       ],
       "shape": {
        "columns": 5,
        "rows": 2
       }
      },
      "text/html": [
       "<div>\n",
       "<style scoped>\n",
       "    .dataframe tbody tr th:only-of-type {\n",
       "        vertical-align: middle;\n",
       "    }\n",
       "\n",
       "    .dataframe tbody tr th {\n",
       "        vertical-align: top;\n",
       "    }\n",
       "\n",
       "    .dataframe thead th {\n",
       "        text-align: right;\n",
       "    }\n",
       "</style>\n",
       "<table border=\"1\" class=\"dataframe\">\n",
       "  <thead>\n",
       "    <tr style=\"text-align: right;\">\n",
       "      <th></th>\n",
       "      <th>order_id</th>\n",
       "      <th>customer</th>\n",
       "      <th>total_product</th>\n",
       "      <th>total_amount</th>\n",
       "      <th>products</th>\n",
       "    </tr>\n",
       "  </thead>\n",
       "  <tbody>\n",
       "    <tr>\n",
       "      <th>0</th>\n",
       "      <td>O1001</td>\n",
       "      <td>Minh</td>\n",
       "      <td>2</td>\n",
       "      <td>110000</td>\n",
       "      <td>Milk,Eggs</td>\n",
       "    </tr>\n",
       "    <tr>\n",
       "      <th>1</th>\n",
       "      <td>O1002</td>\n",
       "      <td>An</td>\n",
       "      <td>1</td>\n",
       "      <td>60000</td>\n",
       "      <td>Bread</td>\n",
       "    </tr>\n",
       "  </tbody>\n",
       "</table>\n",
       "</div>"
      ],
      "text/plain": [
       "  order_id customer  total_product  total_amount   products\n",
       "0    O1001     Minh              2        110000  Milk,Eggs\n",
       "1    O1002       An              1         60000      Bread"
      ]
     },
     "execution_count": 18,
     "metadata": {},
     "output_type": "execute_result"
    }
   ],
   "source": [
    "json_data = [\n",
    "    {\n",
    "        \"order_id\": \"O1001\",\n",
    "        \"customer\": \"Minh\",\n",
    "        \"items\": [\n",
    "            {\"product\": \"Milk\", \"qty\": 2, \"unit_price\": 30000},\n",
    "            {\"product\": \"Eggs\", \"qty\": 1, \"unit_price\": 50000}\n",
    "        ]\n",
    "    },\n",
    "    {\n",
    "        \"order_id\": \"O1002\",\n",
    "        \"customer\": \"An\",\n",
    "        \"items\": [\n",
    "            {\"product\": \"Bread\", \"qty\": 3, \"unit_price\": 20000}\n",
    "        ]\n",
    "    }\n",
    "]\n",
    "\n",
    "import pandas as pd\n",
    "\n",
    "class Order_JSON:\n",
    "    def __init__(self, order):\n",
    "        self.order_id = order['order_id']\n",
    "        self.customer = order['customer']\n",
    "        self.product = \",\".join(item['product'] for item in order['items'])\n",
    "        self.total_product = len(order['items'])\n",
    "        self.total_amount = sum(item['qty'] * item['unit_price'] for item in order['items'])\n",
    "\n",
    "    def to_dataframe(json_data):\n",
    "        data = []\n",
    "\n",
    "        for order in json_data:\n",
    "            obj = Order_JSON(order)\n",
    "            data.append({\n",
    "                'order_id' : obj.order_id,\n",
    "                'customer' : obj.customer,\n",
    "                'total_product' : obj.total_product,\n",
    "                'total_amount' : obj.total_amount,\n",
    "                'products' : obj.product\n",
    "            })\n",
    "        return pd.DataFrame(data)\n",
    "    \n",
    "df = Order_JSON.to_dataframe(json_data)\n",
    "df"
   ]
  },
  {
   "cell_type": "code",
   "execution_count": 20,
   "id": "5b9b29aa",
   "metadata": {},
   "outputs": [
    {
     "data": {
      "application/vnd.microsoft.datawrangler.viewer.v0+json": {
       "columns": [
        {
         "name": "index",
         "rawType": "int64",
         "type": "integer"
        },
        {
         "name": "bill_id",
         "rawType": "object",
         "type": "string"
        },
        {
         "name": "customer",
         "rawType": "object",
         "type": "string"
        },
        {
         "name": "total_amount",
         "rawType": "int64",
         "type": "integer"
        },
        {
         "name": "services",
         "rawType": "object",
         "type": "string"
        }
       ],
       "ref": "cbd778e6-17dc-41b4-a1c2-1d8b74f5c766",
       "rows": [
        [
         "0",
         "B001",
         "Ngoc",
         "400000",
         "Internet, TV"
        ],
        [
         "1",
         "B002",
         "Hieu",
         "200000",
         "Internet"
        ]
       ],
       "shape": {
        "columns": 4,
        "rows": 2
       }
      },
      "text/html": [
       "<div>\n",
       "<style scoped>\n",
       "    .dataframe tbody tr th:only-of-type {\n",
       "        vertical-align: middle;\n",
       "    }\n",
       "\n",
       "    .dataframe tbody tr th {\n",
       "        vertical-align: top;\n",
       "    }\n",
       "\n",
       "    .dataframe thead th {\n",
       "        text-align: right;\n",
       "    }\n",
       "</style>\n",
       "<table border=\"1\" class=\"dataframe\">\n",
       "  <thead>\n",
       "    <tr style=\"text-align: right;\">\n",
       "      <th></th>\n",
       "      <th>bill_id</th>\n",
       "      <th>customer</th>\n",
       "      <th>total_amount</th>\n",
       "      <th>services</th>\n",
       "    </tr>\n",
       "  </thead>\n",
       "  <tbody>\n",
       "    <tr>\n",
       "      <th>0</th>\n",
       "      <td>B001</td>\n",
       "      <td>Ngoc</td>\n",
       "      <td>400000</td>\n",
       "      <td>Internet, TV</td>\n",
       "    </tr>\n",
       "    <tr>\n",
       "      <th>1</th>\n",
       "      <td>B002</td>\n",
       "      <td>Hieu</td>\n",
       "      <td>200000</td>\n",
       "      <td>Internet</td>\n",
       "    </tr>\n",
       "  </tbody>\n",
       "</table>\n",
       "</div>"
      ],
      "text/plain": [
       "  bill_id customer  total_amount      services\n",
       "0    B001     Ngoc        400000  Internet, TV\n",
       "1    B002     Hieu        200000      Internet"
      ]
     },
     "execution_count": 20,
     "metadata": {},
     "output_type": "execute_result"
    }
   ],
   "source": [
    "json_data = [\n",
    "    {\n",
    "        \"bill_id\": \"B001\",\n",
    "        \"customer\": \"Ngoc\",\n",
    "        \"services\": [\n",
    "            {\"service\": \"Internet\", \"qty\": 1, \"unit_price\": 200000},\n",
    "            {\"service\": \"TV\", \"qty\": 2, \"unit_price\": 100000}\n",
    "        ]\n",
    "    },\n",
    "    {\n",
    "        \"bill_id\": \"B002\",\n",
    "        \"customer\": \"Hieu\",\n",
    "        \"services\": [\n",
    "            {\"service\": \"Internet\", \"qty\": 1, \"unit_price\": 200000}\n",
    "        ]\n",
    "    }\n",
    "]\n",
    "\n",
    "# Output:\n",
    "# bill_id,customer,total_amount,services\n",
    "# B001,Ngoc,400000,Internet,TV\n",
    "# B002,Hieu,200000,Internet\n",
    "\n",
    "import pandas as pd\n",
    "\n",
    "class Bill_Export:\n",
    "    def __init__(self, bill):\n",
    "        self.bill_id = bill['bill_id']\n",
    "        self.customer = bill['customer']\n",
    "        self.services = \", \".join(service['service'] for service in bill['services'])\n",
    "        self.total_amount = sum(service['qty'] * service['unit_price'] for service in bill['services'])\n",
    "    \n",
    "    def to_dataframe(json_data):\n",
    "        data = []\n",
    "\n",
    "        for bill in json_data:\n",
    "            obj = Bill_Export(bill)\n",
    "            data.append({\n",
    "                'bill_id' : obj.bill_id,\n",
    "                'customer' : obj.customer,\n",
    "                'total_amount' : obj.total_amount,\n",
    "                \"services\" : obj.services\n",
    "            })\n",
    "        return pd.DataFrame(data)\n",
    "\n",
    "df = Bill_Export.to_dataframe(json_data)\n",
    "df"
   ]
  }
 ],
 "metadata": {
  "kernelspec": {
   "display_name": "Python 3",
   "language": "python",
   "name": "python3"
  },
  "language_info": {
   "codemirror_mode": {
    "name": "ipython",
    "version": 3
   },
   "file_extension": ".py",
   "mimetype": "text/x-python",
   "name": "python",
   "nbconvert_exporter": "python",
   "pygments_lexer": "ipython3",
   "version": "3.12.10"
  }
 },
 "nbformat": 4,
 "nbformat_minor": 5
}
