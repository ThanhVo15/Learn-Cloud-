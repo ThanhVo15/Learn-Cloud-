{
 "cells": [
  {
   "cell_type": "code",
   "execution_count": 1,
   "id": "a1ba7b9c",
   "metadata": {},
   "outputs": [
    {
     "data": {
      "application/vnd.microsoft.datawrangler.viewer.v0+json": {
       "columns": [
        {
         "name": "index",
         "rawType": "int64",
         "type": "integer"
        },
        {
         "name": "country",
         "rawType": "object",
         "type": "string"
        },
        {
         "name": "maturity",
         "rawType": "object",
         "type": "string"
        },
        {
         "name": "revenue_before",
         "rawType": "float64",
         "type": "float"
        },
        {
         "name": "revenue_after_scenario_1",
         "rawType": "float64",
         "type": "float"
        },
        {
         "name": "revenue_after_scenario_2",
         "rawType": "float64",
         "type": "float"
        },
        {
         "name": "revenue_after_scenario_3",
         "rawType": "float64",
         "type": "float"
        }
       ],
       "ref": "a2404543-8d8f-4248-a9b3-8198a94af61e",
       "rows": [
        [
         "0",
         "Belgium",
         "existing",
         "45175.26",
         "40869.26",
         "52813.55",
         "48735.0"
        ],
        [
         "1",
         "Spain",
         "new",
         "112961.18",
         "101528.55",
         "137662.69",
         "132410.04"
        ],
        [
         "2",
         "Italy",
         "new",
         "175859.71",
         "204437.24",
         "175892.62",
         "202953.43"
        ],
        [
         "3",
         "Belgium",
         "new",
         "149122.73",
         "134183.39",
         "171483.63",
         "135934.31"
        ],
        [
         "4",
         "Germany",
         "new",
         "163246.62",
         "148355.25",
         "184256.2",
         "148505.42"
        ]
       ],
       "shape": {
        "columns": 6,
        "rows": 5
       }
      },
      "text/html": [
       "<div>\n",
       "<style scoped>\n",
       "    .dataframe tbody tr th:only-of-type {\n",
       "        vertical-align: middle;\n",
       "    }\n",
       "\n",
       "    .dataframe tbody tr th {\n",
       "        vertical-align: top;\n",
       "    }\n",
       "\n",
       "    .dataframe thead th {\n",
       "        text-align: right;\n",
       "    }\n",
       "</style>\n",
       "<table border=\"1\" class=\"dataframe\">\n",
       "  <thead>\n",
       "    <tr style=\"text-align: right;\">\n",
       "      <th></th>\n",
       "      <th>country</th>\n",
       "      <th>maturity</th>\n",
       "      <th>revenue_before</th>\n",
       "      <th>revenue_after_scenario_1</th>\n",
       "      <th>revenue_after_scenario_2</th>\n",
       "      <th>revenue_after_scenario_3</th>\n",
       "    </tr>\n",
       "  </thead>\n",
       "  <tbody>\n",
       "    <tr>\n",
       "      <th>0</th>\n",
       "      <td>Belgium</td>\n",
       "      <td>existing</td>\n",
       "      <td>45175.26</td>\n",
       "      <td>40869.26</td>\n",
       "      <td>52813.55</td>\n",
       "      <td>48735.00</td>\n",
       "    </tr>\n",
       "    <tr>\n",
       "      <th>1</th>\n",
       "      <td>Spain</td>\n",
       "      <td>new</td>\n",
       "      <td>112961.18</td>\n",
       "      <td>101528.55</td>\n",
       "      <td>137662.69</td>\n",
       "      <td>132410.04</td>\n",
       "    </tr>\n",
       "    <tr>\n",
       "      <th>2</th>\n",
       "      <td>Italy</td>\n",
       "      <td>new</td>\n",
       "      <td>175859.71</td>\n",
       "      <td>204437.24</td>\n",
       "      <td>175892.62</td>\n",
       "      <td>202953.43</td>\n",
       "    </tr>\n",
       "    <tr>\n",
       "      <th>3</th>\n",
       "      <td>Belgium</td>\n",
       "      <td>new</td>\n",
       "      <td>149122.73</td>\n",
       "      <td>134183.39</td>\n",
       "      <td>171483.63</td>\n",
       "      <td>135934.31</td>\n",
       "    </tr>\n",
       "    <tr>\n",
       "      <th>4</th>\n",
       "      <td>Germany</td>\n",
       "      <td>new</td>\n",
       "      <td>163246.62</td>\n",
       "      <td>148355.25</td>\n",
       "      <td>184256.20</td>\n",
       "      <td>148505.42</td>\n",
       "    </tr>\n",
       "  </tbody>\n",
       "</table>\n",
       "</div>"
      ],
      "text/plain": [
       "   country  maturity  revenue_before  revenue_after_scenario_1  \\\n",
       "0  Belgium  existing        45175.26                  40869.26   \n",
       "1    Spain       new       112961.18                 101528.55   \n",
       "2    Italy       new       175859.71                 204437.24   \n",
       "3  Belgium       new       149122.73                 134183.39   \n",
       "4  Germany       new       163246.62                 148355.25   \n",
       "\n",
       "   revenue_after_scenario_2  revenue_after_scenario_3  \n",
       "0                  52813.55                  48735.00  \n",
       "1                 137662.69                 132410.04  \n",
       "2                 175892.62                 202953.43  \n",
       "3                 171483.63                 135934.31  \n",
       "4                 184256.20                 148505.42  "
      ]
     },
     "execution_count": 1,
     "metadata": {},
     "output_type": "execute_result"
    }
   ],
   "source": [
    "import pandas as pd\n",
    "import numpy as np\n",
    "import random\n",
    "\n",
    "# Set seed for reproducibility\n",
    "np.random.seed(42)\n",
    "\n",
    "# Define possible values for categorical columns\n",
    "countries = [\"UK\", \"France\", \"Germany\", \"Spain\", \"Italy\", \"Netherlands\", \"Belgium\", \"Switzerland\"]\n",
    "maturity_types = [\"new\", \"existing\"]\n",
    "\n",
    "# Generate 1000 rows of data\n",
    "n_rows = 1000\n",
    "data = {\n",
    "    \"country\": np.random.choice(countries, size=n_rows),\n",
    "    \"maturity\": np.random.choice(maturity_types, size=n_rows),\n",
    "    \"revenue_before\": np.random.uniform(10000, 200000, n_rows).round(2),\n",
    "}\n",
    "\n",
    "# Generate revenue after scenarios with some correlation to revenue_before\n",
    "data[\"revenue_after_scenario_1\"] = [\n",
    "    value * np.random.uniform(0.8, 1.2) for value in data[\"revenue_before\"]\n",
    "]\n",
    "\n",
    "data[\"revenue_after_scenario_2\"] = [\n",
    "    value * np.random.uniform(0.9, 1.3) for value in data[\"revenue_before\"]\n",
    "]\n",
    "\n",
    "data[\"revenue_after_scenario_3\"] = [\n",
    "    value * np.random.uniform(0.85, 1.25) for value in data[\"revenue_before\"]\n",
    "]\n",
    "\n",
    "# Round all revenue values to 2 decimal places\n",
    "for col in [\"revenue_before\", \"revenue_after_scenario_1\", \"revenue_after_scenario_2\", \"revenue_after_scenario_3\"]:\n",
    "    data[col] = [round(val, 2) for val in data[col]]\n",
    "\n",
    "# Create the DataFrame\n",
    "df = pd.DataFrame(data)\n",
    "\n",
    "# Save to CSV with tab separator\n",
    "df.to_csv('absolute_metrics_example.csv', sep='\\t', index=False)\n",
    "\n",
    "# Display first few rows\n",
    "df.head()"
   ]
  },
  {
   "cell_type": "code",
   "execution_count": null,
   "id": "7e192ed0",
   "metadata": {},
   "outputs": [],
   "source": [
    "def calculate_simple_growth_metrics(stats_df):\n",
    "  # Calculating overall stats\n",
    "  before = stats_df.before.sum()\n",
    "  after = stats_df.after.sum()\n",
    "  print('Metric change: %.2f -> %.2f (%.2f%%)' % (before, after, 100*(after - before)/before))\n",
    "\n",
    "  # Estimating impact of each segment\n",
    "  stats_df['difference'] = stats_df.after - stats_df.before\n",
    "  stats_df['difference_rate'] = (100*stats_df.difference/stats_df.before)\\\n",
    "    .map(lambda x: round(x, 2))\n",
    "  stats_df['impact'] = (100*stats_df.difference / stats_df.difference.sum())\\\n",
    "    .map(lambda x: round(x, 2))\n",
    "  stats_df['segment_share_before'] = (100* stats_df.before / stats_df.before.sum())\\\n",
    "    .map(lambda x: round(x, 2))\n",
    "  stats_df['impact_norm'] = (stats_df.impact/stats_df.segment_share_before)\\\n",
    "    .map(lambda x: round(x, 2))\n",
    "\n",
    "  # Creating visualisations\n",
    "  create_parallel_coordinates_chart(stats_df.reset_index(), stats_df.index.name)\n",
    "  create_share_vs_impact_chart(stats_df.reset_index(), stats_df.index.name, 'segment_share_before', 'impact')\n",
    "  \n",
    "  return stats_df.sort_values('impact_norm', ascending = False)"
   ]
  }
 ],
 "metadata": {
  "kernelspec": {
   "display_name": "Python 3",
   "language": "python",
   "name": "python3"
  },
  "language_info": {
   "codemirror_mode": {
    "name": "ipython",
    "version": 3
   },
   "file_extension": ".py",
   "mimetype": "text/x-python",
   "name": "python",
   "nbconvert_exporter": "python",
   "pygments_lexer": "ipython3",
   "version": "3.12.10"
  }
 },
 "nbformat": 4,
 "nbformat_minor": 5
}
