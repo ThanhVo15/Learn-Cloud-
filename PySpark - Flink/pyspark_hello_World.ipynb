{
 "cells": [
  {
   "cell_type": "markdown",
   "id": "7599a2ea",
   "metadata": {},
   "source": [
    "# I. Setup"
   ]
  },
  {
   "cell_type": "code",
   "execution_count": 50,
   "id": "3cfac67d",
   "metadata": {},
   "outputs": [
    {
     "name": "stdout",
     "output_type": "stream",
     "text": [
      "Total RAM: 15.84 GB\n",
      "Available RAM: 2.85 GB\n"
     ]
    }
   ],
   "source": [
    "import psutil\n",
    "\n",
    "mem = psutil.virtual_memory()\n",
    "total_gb = mem.total / (1024 ** 3)\n",
    "available_gb = mem.available / (1024 ** 3)\n",
    "\n",
    "print(f\"Total RAM: {total_gb:.2f} GB\")\n",
    "print(f\"Available RAM: {available_gb:.2f} GB\")\n"
   ]
  },
  {
   "cell_type": "code",
   "execution_count": 51,
   "id": "fe5a7404",
   "metadata": {},
   "outputs": [],
   "source": [
    "import os\n",
    "os.environ['HADOOP_HOME'] = \"C:\\\\hadoop\""
   ]
  },
  {
   "cell_type": "markdown",
   "id": "d6238d33",
   "metadata": {},
   "source": [
    "# II. Import Data"
   ]
  },
  {
   "cell_type": "code",
   "execution_count": 52,
   "id": "5a02b028",
   "metadata": {},
   "outputs": [],
   "source": [
    "from pyspark.sql import SparkSession\n",
    "\n",
    "\n",
    "spark = (SparkSession.builder\n",
    "         .appName(\"KIN HOTEL PROJECT\")\n",
    "         .master(\"local[*]\")\n",
    "         .config(\"spark.executor.memory\", \"2g\")\n",
    "         .config(\"spark.driver.memory\", \"2g\")\n",
    "         .config(\"spark.sql.shuffle.partitions\", \"2\")\n",
    "         .getOrCreate())\n"
   ]
  },
  {
   "cell_type": "code",
   "execution_count": 53,
   "id": "f3d8df68",
   "metadata": {},
   "outputs": [],
   "source": [
    "from pyspark.sql.types import *\n",
    "\n",
    "# Link: https://www.kaggle.com/datasets/kartikeybartwal/ecomerce-product-recommendation-dataset?resource=download\n",
    "schema = StructType([\n",
    "    StructField(\"Number of clicks on similar products\", IntegerType(), True),\n",
    "    StructField(\"Number of similar products purchased so far\", IntegerType(), True),\n",
    "    StructField(\"Average rating given to similar products\", FloatType(), True),\n",
    "    StructField(\"Gender\", StringType(), True),\n",
    "    StructField(\"Median purchasing price (in rupees)\", IntegerType(), True),\n",
    "    StructField(\"Rating of the product\", FloatType(), True),\n",
    "    StructField(\"Brand of the product\", StringType(), True),\n",
    "    StructField(\"Customer review sentiment score (overall)\", FloatType(), True),\n",
    "    StructField(\"Price of the product\", FloatType(), True),\n",
    "    StructField(\"Holiday\", StringType(), True),\n",
    "    StructField(\"Season\", StringType(), True),\n",
    "    StructField(\"Geographical locations\", StringType(), True),\n",
    "    StructField(\"Probability for the product to be recommended to the person\", FloatType(), True),\n",
    "])"
   ]
  },
  {
   "cell_type": "code",
   "execution_count": 54,
   "id": "cf13e609",
   "metadata": {},
   "outputs": [
    {
     "name": "stdout",
     "output_type": "stream",
     "text": [
      "+------------------------------------+-------------------------------------------+----------------------------------------+------+-----------------------------------+---------------------+--------------------+-----------------------------------------+--------------------+-------+-------+----------------------+-----------------------------------------------------------+\n",
      "|Number of clicks on similar products|Number of similar products purchased so far|Average rating given to similar products|Gender|Median purchasing price (in rupees)|Rating of the product|Brand of the product|Customer review sentiment score (overall)|Price of the product|Holiday|Season |Geographical locations|Probability for the product to be recommended to the person|\n",
      "+------------------------------------+-------------------------------------------+----------------------------------------+------+-----------------------------------+---------------------+--------------------+-----------------------------------------+--------------------+-------+-------+----------------------+-----------------------------------------------------------+\n",
      "|12                                  |4                                          |4.2                                     |male  |500                                |4.5                  |PUMA                |0.8                                      |200.0               |No     |winter |plains                |0.9                                                        |\n",
      "|8                                   |2                                          |3.8                                     |female|3000                               |3.2                  |Lee                 |-0.4                                     |300.0               |Yes    |monsoon|mountains             |0.2                                                        |\n",
      "|25                                  |10                                         |4.5                                     |female|600                                |4.8                  |Head Hunters        |0.6                                      |1000.0              |No     |spring |plains                |0.7                                                        |\n",
      "|6                                   |1                                          |2.1                                     |female|100                                |2.5                  |Johnson & Johnson   |0.1                                      |300.0               |No     |summer |coastal               |0.1                                                        |\n",
      "|18                                  |5                                          |4.7                                     |male  |2000                               |4.3                  |Wakefit             |0.9                                      |700.0               |Yes    |winter |plains                |0.8                                                        |\n",
      "+------------------------------------+-------------------------------------------+----------------------------------------+------+-----------------------------------+---------------------+--------------------+-----------------------------------------+--------------------+-------+-------+----------------------+-----------------------------------------------------------+\n",
      "only showing top 5 rows\n"
     ]
    }
   ],
   "source": [
    "file_path = r\"E:\\Learn-Cloud-\\PySpark - Flink\\content_based_recommendation_dataset.csv\"\n",
    "\n",
    "df = spark.read.csv(file_path, \n",
    "                   header=True, \n",
    "                   schema=schema,\n",
    "                   sep = ',')\n",
    "\n",
    "df.show(5,0)"
   ]
  },
  {
   "cell_type": "code",
   "execution_count": 55,
   "id": "59e51e3d",
   "metadata": {},
   "outputs": [
    {
     "name": "stdout",
     "output_type": "stream",
     "text": [
      "Standard display:\n",
      "+------------------------------------+-------------------------------------------+----------------------------------------+------+-----------------------------------+---------------------+--------------------+-----------------------------------------+--------------------+-------+-------+----------------------+-----------------------------------------------------------+\n",
      "|Number of clicks on similar products|Number of similar products purchased so far|Average rating given to similar products|Gender|Median purchasing price (in rupees)|Rating of the product|Brand of the product|Customer review sentiment score (overall)|Price of the product|Holiday| Season|Geographical locations|Probability for the product to be recommended to the person|\n",
      "+------------------------------------+-------------------------------------------+----------------------------------------+------+-----------------------------------+---------------------+--------------------+-----------------------------------------+--------------------+-------+-------+----------------------+-----------------------------------------------------------+\n",
      "|                                  12|                                          4|                                     4.2|  male|                                500|                  4.5|                PUMA|                                      0.8|               200.0|     No| winter|                plains|                                                        0.9|\n",
      "|                                   8|                                          2|                                     3.8|female|                               3000|                  3.2|                 Lee|                                     -0.4|               300.0|    Yes|monsoon|             mountains|                                                        0.2|\n",
      "|                                  25|                                         10|                                     4.5|female|                                600|                  4.8|        Head Hunters|                                      0.6|              1000.0|     No| spring|                plains|                                                        0.7|\n",
      "+------------------------------------+-------------------------------------------+----------------------------------------+------+-----------------------------------+---------------------+--------------------+-----------------------------------------+--------------------+-------+-------+----------------------+-----------------------------------------------------------+\n",
      "only showing top 3 rows\n",
      "\n",
      "No truncation:\n",
      "+------------------------------------+-------------------------------------------+----------------------------------------+------+-----------------------------------+---------------------+--------------------+-----------------------------------------+--------------------+-------+-------+----------------------+-----------------------------------------------------------+\n",
      "|Number of clicks on similar products|Number of similar products purchased so far|Average rating given to similar products|Gender|Median purchasing price (in rupees)|Rating of the product|Brand of the product|Customer review sentiment score (overall)|Price of the product|Holiday|Season |Geographical locations|Probability for the product to be recommended to the person|\n",
      "+------------------------------------+-------------------------------------------+----------------------------------------+------+-----------------------------------+---------------------+--------------------+-----------------------------------------+--------------------+-------+-------+----------------------+-----------------------------------------------------------+\n",
      "|12                                  |4                                          |4.2                                     |male  |500                                |4.5                  |PUMA                |0.8                                      |200.0               |No     |winter |plains                |0.9                                                        |\n",
      "|8                                   |2                                          |3.8                                     |female|3000                               |3.2                  |Lee                 |-0.4                                     |300.0               |Yes    |monsoon|mountains             |0.2                                                        |\n",
      "|25                                  |10                                         |4.5                                     |female|600                                |4.8                  |Head Hunters        |0.6                                      |1000.0              |No     |spring |plains                |0.7                                                        |\n",
      "+------------------------------------+-------------------------------------------+----------------------------------------+------+-----------------------------------+---------------------+--------------------+-----------------------------------------+--------------------+-------+-------+----------------------+-----------------------------------------------------------+\n",
      "only showing top 3 rows\n",
      "\n",
      "Vertical display:\n",
      "-RECORD 0----------------------------------------------------------------\n",
      " Number of clicks on similar products                        | 12        \n",
      " Number of similar products purchased so far                 | 4         \n",
      " Average rating given to similar products                    | 4.2       \n",
      " Gender                                                      | male      \n",
      " Median purchasing price (in rupees)                         | 500       \n",
      " Rating of the product                                       | 4.5       \n",
      " Brand of the product                                        | PUMA      \n",
      " Customer review sentiment score (overall)                   | 0.8       \n",
      " Price of the product                                        | 200.0     \n",
      " Holiday                                                     | No        \n",
      " Season                                                      | winter    \n",
      " Geographical locations                                      | plains    \n",
      " Probability for the product to be recommended to the person | 0.9       \n",
      "-RECORD 1----------------------------------------------------------------\n",
      " Number of clicks on similar products                        | 8         \n",
      " Number of similar products purchased so far                 | 2         \n",
      " Average rating given to similar products                    | 3.8       \n",
      " Gender                                                      | female    \n",
      " Median purchasing price (in rupees)                         | 3000      \n",
      " Rating of the product                                       | 3.2       \n",
      " Brand of the product                                        | Lee       \n",
      " Customer review sentiment score (overall)                   | -0.4      \n",
      " Price of the product                                        | 300.0     \n",
      " Holiday                                                     | Yes       \n",
      " Season                                                      | monsoon   \n",
      " Geographical locations                                      | mountains \n",
      " Probability for the product to be recommended to the person | 0.2       \n",
      "only showing top 2 rows\n",
      "\n",
      "Vertical with no truncation:\n",
      "-RECORD 0----------------------------------------------------------------\n",
      " Number of clicks on similar products                        | 12        \n",
      " Number of similar products purchased so far                 | 4         \n",
      " Average rating given to similar products                    | 4.2       \n",
      " Gender                                                      | male      \n",
      " Median purchasing price (in rupees)                         | 500       \n",
      " Rating of the product                                       | 4.5       \n",
      " Brand of the product                                        | PUMA      \n",
      " Customer review sentiment score (overall)                   | 0.8       \n",
      " Price of the product                                        | 200.0     \n",
      " Holiday                                                     | No        \n",
      " Season                                                      | winter    \n",
      " Geographical locations                                      | plains    \n",
      " Probability for the product to be recommended to the person | 0.9       \n",
      "-RECORD 1----------------------------------------------------------------\n",
      " Number of clicks on similar products                        | 8         \n",
      " Number of similar products purchased so far                 | 2         \n",
      " Average rating given to similar products                    | 3.8       \n",
      " Gender                                                      | female    \n",
      " Median purchasing price (in rupees)                         | 3000      \n",
      " Rating of the product                                       | 3.2       \n",
      " Brand of the product                                        | Lee       \n",
      " Customer review sentiment score (overall)                   | -0.4      \n",
      " Price of the product                                        | 300.0     \n",
      " Holiday                                                     | Yes       \n",
      " Season                                                      | monsoon   \n",
      " Geographical locations                                      | mountains \n",
      " Probability for the product to be recommended to the person | 0.2       \n",
      "only showing top 2 rows\n",
      "\n",
      "Custom width truncation (10 chars):\n",
      "+------------------------------------+-------------------------------------------+----------------------------------------+------+-----------------------------------+---------------------+--------------------+-----------------------------------------+--------------------+-------+-------+----------------------+-----------------------------------------------------------+\n",
      "|Number of clicks on similar products|Number of similar products purchased so far|Average rating given to similar products|Gender|Median purchasing price (in rupees)|Rating of the product|Brand of the product|Customer review sentiment score (overall)|Price of the product|Holiday| Season|Geographical locations|Probability for the product to be recommended to the person|\n",
      "+------------------------------------+-------------------------------------------+----------------------------------------+------+-----------------------------------+---------------------+--------------------+-----------------------------------------+--------------------+-------+-------+----------------------+-----------------------------------------------------------+\n",
      "|                                  12|                                          4|                                     4.2|  male|                                500|                  4.5|                PUMA|                                      0.8|               200.0|     No| winter|                plains|                                                        0.9|\n",
      "|                                   8|                                          2|                                     3.8|female|                               3000|                  3.2|                 Lee|                                     -0.4|               300.0|    Yes|monsoon|             mountains|                                                        0.2|\n",
      "|                                  25|                                         10|                                     4.5|female|                                600|                  4.8|          Head Hu...|                                      0.6|              1000.0|     No| spring|                plains|                                                        0.7|\n",
      "+------------------------------------+-------------------------------------------+----------------------------------------+------+-----------------------------------+---------------------+--------------------+-----------------------------------------+--------------------+-------+-------+----------------------+-----------------------------------------------------------+\n",
      "only showing top 3 rows\n"
     ]
    }
   ],
   "source": [
    "# Display options examples:\n",
    "\n",
    "# 1. Standard display - will truncate long strings\n",
    "print(\"Standard display:\")\n",
    "df.show(3)\n",
    "\n",
    "# 2. No truncation - shows full content of all fields\n",
    "print(\"\\nNo truncation:\")\n",
    "df.show(3, truncate=False)\n",
    "\n",
    "# 3. Vertical display - each record shown vertically (great for many columns)\n",
    "print(\"\\nVertical display:\")\n",
    "df.show(2, vertical=True)\n",
    "\n",
    "# 4. Combined - vertical with no truncation\n",
    "print(\"\\nVertical with no truncation:\")\n",
    "df.show(2, truncate=False, vertical=True)\n",
    "\n",
    "# 5. Custom width truncation (limit to 10 characters)\n",
    "print(\"\\nCustom width truncation (10 chars):\")\n",
    "df.show(3, truncate=10)"
   ]
  },
  {
   "cell_type": "markdown",
   "id": "c00a52a4",
   "metadata": {},
   "source": [
    "# III. Exploratory data analysis"
   ]
  },
  {
   "cell_type": "code",
   "execution_count": 56,
   "id": "aa2163f3",
   "metadata": {},
   "outputs": [
    {
     "name": "stdout",
     "output_type": "stream",
     "text": [
      "\n",
      "Number of rows in the DataFrame:\n",
      "1474\n",
      "\n",
      "Number of columns in the DataFrame:\n",
      "13\n"
     ]
    }
   ],
   "source": [
    "# Let’s start by counting the number of rows in the DataFram :\n",
    "print(\"\\nNumber of rows in the DataFrame:\")\n",
    "row_count = df.count()\n",
    "print(row_count)\n",
    "print(\"\\nNumber of columns in the DataFrame:\")\n",
    "columns_count = len(df.columns)\n",
    "print(columns_count)\n"
   ]
  },
  {
   "cell_type": "code",
   "execution_count": 57,
   "id": "05d797cd",
   "metadata": {},
   "outputs": [],
   "source": [
    "# Rename all the columns for better calling later\n",
    "df = df.withColumnRenamed(\"Number of clicks on similar products\", \"clicks\") \\\n",
    "       .withColumnRenamed(\"Number of similar products purchased so far\", \"purchased\") \\\n",
    "       .withColumnRenamed(\"Average rating given to similar products\", \"avg_rating\") \\\n",
    "       .withColumnRenamed(\"Gender\", \"gender\") \\\n",
    "       .withColumnRenamed(\"Median purchasing price (in rupees)\", \"median_price\") \\\n",
    "       .withColumnRenamed(\"Rating of the product\", \"product_rating\") \\\n",
    "       .withColumnRenamed(\"Brand of the product\", \"brand\") \\\n",
    "       .withColumnRenamed(\"Customer review sentiment score (overall)\", \"sentiment_score\") \\\n",
    "       .withColumnRenamed(\"Price of the product\", \"price\") \\\n",
    "       .withColumnRenamed(\"Holiday\", \"holiday\") \\\n",
    "       .withColumnRenamed(\"Season\", \"season\") \\\n",
    "       .withColumnRenamed(\"Geographical locations\", \"location\") \\\n",
    "       .withColumnRenamed(\"Probability for the product to be recommended to the person\", \"recommendation_prob\")\n"
   ]
  },
  {
   "cell_type": "code",
   "execution_count": 58,
   "id": "1ff92594",
   "metadata": {},
   "outputs": [
    {
     "data": {
      "text/plain": [
       "48"
      ]
     },
     "execution_count": 58,
     "metadata": {},
     "output_type": "execute_result"
    }
   ],
   "source": [
    "# How many unique brand are present in the DataFrame?\n",
    "df.select(\"brand\"). distinct().count()"
   ]
  },
  {
   "cell_type": "code",
   "execution_count": 59,
   "id": "bd5aa5cd",
   "metadata": {},
   "outputs": [
    {
     "name": "stdout",
     "output_type": "stream",
     "text": [
      "+-----------------+--------------------+---------------------+-----------------+-----------------------+-------------------------+----------------+--------------------------+----------------+------------------+-----------------+-------------------+------------------------------+\n",
      "|clicks_null_count|purchased_null_count|avg_rating_null_count|gender_null_count|median_price_null_count|product_rating_null_count|brand_null_count|sentiment_score_null_count|price_null_count|holiday_null_count|season_null_count|location_null_count|recommendation_prob_null_count|\n",
      "+-----------------+--------------------+---------------------+-----------------+-----------------------+-------------------------+----------------+--------------------------+----------------+------------------+-----------------+-------------------+------------------------------+\n",
      "|                0|                   0|                    0|                0|                      0|                        0|               0|                         0|               0|                 0|                0|                  0|                             0|\n",
      "+-----------------+--------------------+---------------------+-----------------+-----------------------+-------------------------+----------------+--------------------------+----------------+------------------+-----------------+-------------------+------------------------------+\n",
      "\n"
     ]
    },
    {
     "data": {
      "text/plain": [
       "1474"
      ]
     },
     "execution_count": 59,
     "metadata": {},
     "output_type": "execute_result"
    }
   ],
   "source": [
    "# Checking for null values in each columns\n",
    "from pyspark.sql.functions import *\n",
    "\n",
    "df.select([sum(col(c).isNull().cast(\"int\")).alias(c +\"_null_count\") for c in df.columns]).show()\n",
    "df.dropna().count()"
   ]
  },
  {
   "cell_type": "code",
   "execution_count": 60,
   "id": "467851c9",
   "metadata": {},
   "outputs": [
    {
     "name": "stdout",
     "output_type": "stream",
     "text": [
      "Number of duplicate rows: 456\n",
      "+------+---------+----------+------+------------+--------------+--------------------+---------------+-----+-------+------+---------+-------------------+-----+\n",
      "|clicks|purchased|avg_rating|gender|median_price|product_rating|               brand|sentiment_score|price|holiday|season| location|recommendation_prob|count|\n",
      "+------+---------+----------+------+------------+--------------+--------------------+---------------+-----+-------+------+---------+-------------------+-----+\n",
      "|    16|        8|       3.8|female|         900|           4.0|   Johnson & Johnson|            0.7|200.0|     No|summer|   plains|                0.8|   19|\n",
      "|     8|        4|       3.2|  male|        3000|           3.4|            Fastrack|            0.2|400.0|     No|winter|   plains|                0.3|   19|\n",
      "|    11|        5|       3.2|female|        4000|           3.4|Patanjali Ayurved...|            0.1|500.0|    Yes|winter|   plains|                0.2|   19|\n",
      "|    12|        6|       3.3|female|        2000|           3.5|           Wildcraft|            0.5|500.0|    Yes|winter|mountains|                0.6|   19|\n",
      "|    31|       15|       4.7|female|         600|           4.8|           Wildcraft|            0.9|700.0|     No|winter|   plains|                1.0|   19|\n",
      "|    20|       10|       4.3|  male|        1000|           4.4|                 Lee|            0.8|300.0|     No|summer|   plains|                0.9|   19|\n",
      "|    28|       14|       4.7|  male|         200|           4.8|   Pepe Jeans London|            0.9|800.0|     No|winter|mountains|                1.0|   19|\n",
      "|    24|       12|       4.5|female|         900|           4.6|      Flying Machine|            0.8|300.0|     No|winter|   plains|                0.9|   18|\n",
      "|     6|        3|       2.9|female|        6000|           3.1|           Wildcraft|            0.0|500.0|    Yes|winter|   plains|                0.1|   18|\n",
      "|    15|        8|       3.9|female|         500|           4.1|      Manyavar Mohey|            0.7|200.0|     No|summer|   plains|                0.8|   18|\n",
      "|    13|        7|       3.7|  male|         100|           3.8|     Sugar Cosmetics|            0.6|200.0|     No|summer|  coastal|                0.7|   18|\n",
      "|    21|       11|       4.4|  male|         500|           4.6|        Urban Ladder|            0.7|400.0|     No|summer|   plains|                0.8|   18|\n",
      "|    32|       16|       4.8|female|        2000|           4.9|      Lakme Ayurveda|            0.9|700.0|     No|winter|   plains|                1.0|   18|\n",
      "|    17|        9|       4.1|  male|         400|           4.2|        Head Hunters|            0.8|200.0|     No|summer|  coastal|                0.9|   18|\n",
      "|    25|       13|       4.6|female|         300|           4.7|      Manyavar Mohey|            0.9|800.0|     No|winter|   plains|                1.0|   18|\n",
      "|    19|        9|       4.2|  male|         200|           4.3|   Pepe Jeans London|            0.8|300.0|     No|summer|   plains|                0.9|   18|\n",
      "|    34|       17|       4.9|female|        7000|           5.0|             Wakefit|            0.9|900.0|    Yes|winter|mountains|                1.0|   18|\n",
      "|    22|       11|       4.5|  male|        1000|           4.7|           Wildcraft|            0.8|400.0|     No|winter|   plains|                0.9|   18|\n",
      "|    16|        8|       3.8|female|         400|           4.0|   Johnson & Johnson|            0.7|200.0|     No|summer|   plains|                0.8|   18|\n",
      "|    10|        5|       3.1|  male|        5000|           3.2|      Lakme Ayurveda|            0.0|600.0|    Yes|summer|  coastal|                0.1|   18|\n",
      "+------+---------+----------+------+------------+--------------+--------------------+---------------+-----+-------+------+---------+-------------------+-----+\n",
      "only showing top 20 rows\n",
      "Number of rows after dropping duplicates: 1018\n"
     ]
    }
   ],
   "source": [
    "# Checking for duplicate rows\n",
    "duplicate_count = df.count() - df.dropDuplicates().count()\n",
    "print(f\"Number of duplicate rows: {duplicate_count}\")\n",
    "\n",
    "# Showing some duplicate rows\n",
    "df.groupBy(df.columns).count().filter(\"count>1\").orderBy(\"count\", ascending = False).show()\n",
    "\n",
    "# Dropping duplicate rows\n",
    "df = df.dropDuplicates()\n",
    "print(f\"Number of rows after dropping duplicates: {df.count()}\")"
   ]
  },
  {
   "cell_type": "code",
   "execution_count": null,
   "id": "ae15e444",
   "metadata": {},
   "outputs": [],
   "source": []
  },
  {
   "cell_type": "code",
   "execution_count": 61,
   "id": "47639e1e",
   "metadata": {},
   "outputs": [
    {
     "name": "stdout",
     "output_type": "stream",
     "text": [
      "+------+\n",
      "|gender|\n",
      "+------+\n",
      "|female|\n",
      "|  male|\n",
      "+------+\n",
      "\n",
      "+------+-----+\n",
      "|gender|count|\n",
      "+------+-----+\n",
      "|female|  503|\n",
      "|  male|  515|\n",
      "+------+-----+\n",
      "\n",
      "\n",
      "Detailed Gender Distribution:\n",
      "+------+-----+----------+-------------+\n",
      "|gender|count|percentage|    formatted|\n",
      "+------+-----+----------+-------------+\n",
      "|  male|  515|     50.59|515 (50.59% )|\n",
      "|female|  503|     49.41|503 (49.41% )|\n",
      "+------+-----+----------+-------------+\n",
      "\n"
     ]
    }
   ],
   "source": [
    "# Counting the distribution of Gender, count and percentage\n",
    "df.select(\"gender\").distinct().show()\n",
    "df.groupBy(\"gender\").count().show()\n",
    "\n",
    "# Advanced PySpark Caculations\n",
    "total_count = df.count()\n",
    "print(\"\\nDetailed Gender Distribution:\")\n",
    "df.groupBy(\"gender\")\\\n",
    ".agg(count(\"*\").alias(\"count\"))\\\n",
    ".withColumn(\"percentage\", round(col(\"count\")/total_count *100,2))\\\n",
    ".withColumn(\"formatted\", concat(col(\"count\"), lit(\" (\"), col(\"percentage\"), lit(\"% )\")))\\\n",
    ".select(\"gender\", \"count\", \"percentage\", \"formatted\")\\\n",
    ".orderBy(\"count\", ascending=False) \\\n",
    ".show()"
   ]
  },
  {
   "cell_type": "code",
   "execution_count": 62,
   "id": "5b603e2e",
   "metadata": {},
   "outputs": [
    {
     "name": "stdout",
     "output_type": "stream",
     "text": [
      "+-------+------------------+\n",
      "|summary|             price|\n",
      "+-------+------------------+\n",
      "|  count|              1018|\n",
      "|   mean|1334.9214145383105|\n",
      "| stddev|2126.9896564710098|\n",
      "|    min|              90.0|\n",
      "|    max|           10000.0|\n",
      "+-------+------------------+\n",
      "\n",
      "+---------------------+---------+-------------------+------------------+\n",
      "|brand                |avg_price|formatted_avg_price|above_or_below_avg|\n",
      "+---------------------+---------+-------------------+------------------+\n",
      "|Stayfree             |223.08   |16.71%             |Below Average     |\n",
      "|Whisper              |375.0    |28.09%             |Below Average     |\n",
      "|Sugar Cosmetics      |433.33   |32.46%             |Below Average     |\n",
      "|Libram               |491.67   |36.83%             |Below Average     |\n",
      "|Johnson & Johnson    |535.0    |40.08%             |Below Average     |\n",
      "|Zandu                |550.0    |41.2%              |Below Average     |\n",
      "|U.S. Polo Assn. Women|575.0    |43.07%             |Below Average     |\n",
      "|Lee                  |597.83   |44.78%             |Below Average     |\n",
      "|PUMA                 |612.0    |45.85%             |Below Average     |\n",
      "|Mothercare           |622.22   |46.61%             |Below Average     |\n",
      "+---------------------+---------+-------------------+------------------+\n",
      "only showing top 10 rows\n"
     ]
    }
   ],
   "source": [
    "# Basic Statistics in Price\n",
    "df.describe(\"price\").show()\n",
    "mean_price = df.select(mean(\"price\")).collect()[0][0]\n",
    "\n",
    "# Calculating the average price of products group by brand\n",
    "df.groupBy(\"brand\")\\\n",
    ".agg(round(mean(\"price\"),2).alias(\"avg_price\")) \\\n",
    ".withColumn(\"vs_avg_price\",round((col(\"avg_price\")/mean_price)*100,2)) \\\n",
    ".withColumn(\"formatted_avg_price\",\n",
    "            concat(col(\"vs_avg_price\"), lit(\"%\"))) \\\n",
    ".withColumn(\"above_or_below_avg\",\n",
    "            when(col(\"avg_price\") > mean_price, \"Above Average\")\n",
    "    .when(col(\"avg_price\") < mean_price, \"Below Average\")\n",
    "    .otherwise(\"Average\")) \\\n",
    ".select(\"brand\", \"avg_price\", \"formatted_avg_price\", \"above_or_below_avg\") \\\n",
    ".orderBy(\"avg_price\", ascending=True) \\\n",
    ".show(10, truncate=False)"
   ]
  },
  {
   "cell_type": "code",
   "execution_count": 63,
   "id": "125f6c95",
   "metadata": {},
   "outputs": [
    {
     "name": "stdout",
     "output_type": "stream",
     "text": [
      "+-------------------------------+-------------+----------+-----------------------+-------------------------+\n",
      "|brand                          |product_count|avg_rating|formatted_rating_vs_avg|above_or_below_avg_rating|\n",
      "+-------------------------------+-------------+----------+-----------------------+-------------------------+\n",
      "|Wildcraft                      |74           |4.24      |105.7%                 |Above Average            |\n",
      "|Manyavar Mohey                 |58           |4.0       |99.72%                 |Below Average            |\n",
      "|Pepperfry                      |55           |4.11      |102.46%                |Above Average            |\n",
      "|Flying Machine                 |52           |3.86      |96.23%                 |Below Average            |\n",
      "|Patanjali Ayurved (Health Care)|50           |4.17      |103.96%                |Above Average            |\n",
      "|Lee                            |46           |4.35      |108.45%                |Above Average            |\n",
      "|Lakme Ayurveda                 |45           |3.86      |96.23%                 |Below Average            |\n",
      "|Wakefit                        |41           |3.71      |92.49%                 |Below Average            |\n",
      "|Johnson & Johnson              |40           |3.97      |98.97%                 |Below Average            |\n",
      "|Khadi Essentials               |34           |4.38      |109.19%                |Above Average            |\n",
      "+-------------------------------+-------------+----------+-----------------------+-------------------------+\n",
      "only showing top 10 rows\n"
     ]
    }
   ],
   "source": [
    "# Calculating the number of products in each brand and the average rating of products in each brand\n",
    "df.groupBy(\"brand\")\\\n",
    ".agg(count(\"*\").alias(\"product_count\"),\n",
    "        round(mean(\"product_rating\"), 2).alias(\"avg_rating\")) \\\n",
    ".withColumn(\"rating_vs_avg\",\n",
    "            round((col(\"avg_rating\")/df.select(mean(\"product_rating\")).collect()[0][0])*100, 2)) \\\n",
    ".withColumn(\"formatted_rating_vs_avg\",\n",
    "            concat(col(\"rating_vs_avg\"), lit(\"%\"))) \\\n",
    ".withColumn(\"above_or_below_avg_rating\",\n",
    "            when(col(\"avg_rating\") > df.select(mean(\"product_rating\")).collect()[0][0], \"Above Average\")\n",
    "            .when(col(\"avg_rating\") < df.select(mean(\"product_rating\")).collect()[0][0], \"Below Average\")\n",
    "            .otherwise(\"Average\")) \\\n",
    ".select(\"brand\", \"product_count\", \"avg_rating\", \"formatted_rating_vs_avg\", \"above_or_below_avg_rating\") \\\n",
    ".orderBy(\"product_count\", ascending=False) \\\n",
    ".show(10, truncate=False)"
   ]
  },
  {
   "cell_type": "code",
   "execution_count": 64,
   "id": "b0796d63",
   "metadata": {},
   "outputs": [
    {
     "name": "stdout",
     "output_type": "stream",
     "text": [
      "+------------------------+\n",
      "|avg(recommendation_prob)|\n",
      "+------------------------+\n",
      "|      0.8444055873197276|\n",
      "+------------------------+\n",
      "\n",
      "+------------------------+\n",
      "|avg(recommendation_prob)|\n",
      "+------------------------+\n",
      "|      0.6253199996000954|\n",
      "+------------------------+\n",
      "\n"
     ]
    }
   ],
   "source": [
    "mean_price = df.selectExpr(\"avg(price)\").first()[0]\n",
    "df.filter(f\"price > {mean_price}\").agg({\"recommendation_prob\": \"avg\"}).show()\n",
    "df.filter(f\"price <= {mean_price}\").agg({\"recommendation_prob\": \"avg\"}).show()\n"
   ]
  },
  {
   "cell_type": "markdown",
   "id": "cb78e99d",
   "metadata": {},
   "source": [
    "## IV. Data Preprocessing"
   ]
  },
  {
   "cell_type": "code",
   "execution_count": 65,
   "id": "cf9f91a6",
   "metadata": {},
   "outputs": [],
   "source": [
    "df = df.withColumn(\"Customer_ID\", monotonically_increasing_id())\n",
    "columns = df.columns\n",
    "\n",
    "new_orders = [\"Customer_ID\"] + [c for c in columns if c != \"Customer_ID\"]\n",
    "df = df.select(new_orders)"
   ]
  },
  {
   "cell_type": "code",
   "execution_count": 66,
   "id": "56cf0a42",
   "metadata": {},
   "outputs": [],
   "source": [
    "start_date = \"2023-01-01\"\n",
    "end_date = \"2023-12-31\"\n",
    "\n",
    "df = df.withColumn(\n",
    "    \"Date\",\n",
    "    expr(\n",
    "        \"date_add(\"\n",
    "        f\"'{start_date}', \"\n",
    "        \"cast(floor(rand() * datediff('{end}', '{start}')) as int)\"\n",
    "        \")\"\n",
    "        .replace(\"{start}\", start_date)\n",
    "        .replace(\"{end}\", end_date)\n",
    "    )\n",
    ")\n",
    "\n",
    "columns = df.columns\n",
    "new_orders = [\"Customer_ID\", \"Date\"] + [c for c in columns if c not in [\"Customer_ID\", \"Date\"]]\n",
    "df = df.select(new_orders)\n"
   ]
  },
  {
   "cell_type": "code",
   "execution_count": 75,
   "id": "61f45f49",
   "metadata": {},
   "outputs": [
    {
     "name": "stdout",
     "output_type": "stream",
     "text": [
      "+-----------+-------+--------+---------+\n",
      "|Customer_ID|Recency|Monetary|Frequency|\n",
      "+-----------+-------+--------+---------+\n",
      "|2          |289    |300.0   |1        |\n",
      "|4          |358    |2700.0  |1        |\n",
      "|5          |119    |8000.0  |1        |\n",
      "|8          |275    |5400.0  |1        |\n",
      "|12         |246    |7200.0  |1        |\n",
      "+-----------+-------+--------+---------+\n",
      "only showing top 5 rows\n"
     ]
    }
   ],
   "source": [
    "current_date = \"2023-12-31\"\n",
    "df = df.withColumn(\"Recency\", datediff(lit(current_date), df[\"Date\"])) \\\n",
    "        .withColumn(\"Recency\", col(\"Recency\").cast(IntegerType())) \\\n",
    "        .withColumn(\"Monetary\", expr(\"price * purchased\").cast(FloatType()))\n",
    "rfm = df.groupBy(\"Customer_ID\") \\\n",
    "    .agg(\n",
    "        max(\"Recency\").alias(\"Recency\"),\n",
    "        sum(\"Monetary\").alias(\"Monetary\"),\n",
    "        count(\"Customer_ID\").alias(\"Frequency\")\n",
    "    )\n",
    "rfm.show(5, truncate=False) "
   ]
  },
  {
   "cell_type": "code",
   "execution_count": null,
   "id": "ee39f513",
   "metadata": {},
   "outputs": [
    {
     "name": "stdout",
     "output_type": "stream",
     "text": [
      "+---------------------------------------------+\n",
      "|scaled_features                              |\n",
      "+---------------------------------------------+\n",
      "|[2.7804486017092063,0.008073323922524769,0.0]|\n",
      "|[3.4442927315290515,0.07265991530272292,0.0] |\n",
      "|[1.144890600703791,0.21528863793399383,0.0]  |\n",
      "|[2.6457555898617016,0.14531983060544584,0.0] |\n",
      "|[2.366748636749013,0.19375977414059445,0.0]  |\n",
      "+---------------------------------------------+\n",
      "only showing top 5 rows\n"
     ]
    }
   ],
   "source": [
    "from pyspark.ml.feature import VectorAssembler, StandardScaler\n",
    "\n",
    "assembeler = VectorAssembler(\n",
    "    inputCols=[\"Recency\", \"Monetary\", \"Frequency\"],\n",
    "    outputCol=\"features\"\n",
    ")\n",
    "assembeler_data = assembeler.transform(rfm)\n",
    "\n",
    "scaler = StandardScaler(\n",
    "    inputCol=\"features\",\n",
    "    outputCol=\"scaled_features\",\n",
    "    withStd=True,\n",
    "    withMean=False\n",
    ")\n",
    "scaler_data = scaler.fit(assembeler_data).transform(assembeler_data)\n",
    "\n",
    "scaler_data.select(\"scaled_features\").show(5, truncate=False)\n"
   ]
  },
  {
   "cell_type": "code",
   "execution_count": 79,
   "id": "de357790",
   "metadata": {},
   "outputs": [],
   "source": [
    "from pyspark.ml.clustering import KMeans\n",
    "from pyspark.ml.evaluation import ClusteringEvaluator\n",
    "import numpy as np\n",
    "\n",
    "cost = np.zeros(10)\n",
    "\n",
    "evaluator = ClusteringEvaluator(predictionCol='prediction', featuresCol='scaled_features',metricName='silhouette', distanceMeasure='squaredEuclidean')\n",
    "\n",
    "for i in range(2,10):\n",
    "    KMeans_algo=KMeans(featuresCol='scaled_features', k=i)\n",
    "    KMeans_fit=KMeans_algo.fit(scaler_data)\n",
    "    output=KMeans_fit.transform(scaler_data)\n",
    "    cost[i] = KMeans_fit.summary.trainingCost"
   ]
  },
  {
   "cell_type": "code",
   "execution_count": 80,
   "id": "729c22ed",
   "metadata": {},
   "outputs": [
    {
     "data": {
      "image/png": "[encoded data removed]",
      "text/plain": [
       "<Figure size 640x480 with 1 Axes>"
      ]
     },
     "metadata": {},
     "output_type": "display_data"
    }
   ],
   "source": [
    "import pandas as pd\n",
    "import pylab as pl\n",
    "df_cost = pd.DataFrame(cost[2:])\n",
    "df_cost.columns = [\"cost\"]\n",
    "new_col = range(2,10)\n",
    "df_cost.insert(0, 'cluster', new_col)\n",
    "pl.plot(df_cost.cluster, df_cost.cost)\n",
    "pl.xlabel('Number of Clusters')\n",
    "pl.ylabel('Score')\n",
    "pl.title('Elbow Curve')\n",
    "pl.show()"
   ]
  },
  {
   "cell_type": "code",
   "execution_count": 82,
   "id": "df471ed5",
   "metadata": {},
   "outputs": [],
   "source": [
    "KMeans_algo=KMeans(featuresCol='scaled_features', k=3)\n",
    "KMeans_fit=KMeans_algo.fit(scaler_data)"
   ]
  },
  {
   "cell_type": "code",
   "execution_count": 83,
   "id": "646efc63",
   "metadata": {},
   "outputs": [
    {
     "name": "stdout",
     "output_type": "stream",
     "text": [
      "+-----------+-------+--------+---------+------------------+---------------------------------------------+----------+\n",
      "|Customer_ID|Recency|Monetary|Frequency|features          |scaled_features                              |prediction|\n",
      "+-----------+-------+--------+---------+------------------+---------------------------------------------+----------+\n",
      "|2          |289    |300.0   |1        |[289.0,300.0,1.0] |[2.7804486017092063,0.008073323922524769,0.0]|1         |\n",
      "|4          |358    |2700.0  |1        |[358.0,2700.0,1.0]|[3.4442927315290515,0.07265991530272292,0.0] |1         |\n",
      "|5          |119    |8000.0  |1        |[119.0,8000.0,1.0]|[1.144890600703791,0.21528863793399383,0.0]  |0         |\n",
      "|8          |275    |5400.0  |1        |[275.0,5400.0,1.0]|[2.6457555898617016,0.14531983060544584,0.0] |1         |\n",
      "|12         |246    |7200.0  |1        |[246.0,7200.0,1.0]|[2.366748636749013,0.19375977414059445,0.0]  |1         |\n",
      "+-----------+-------+--------+---------+------------------+---------------------------------------------+----------+\n",
      "only showing top 5 rows\n"
     ]
    }
   ],
   "source": [
    "preds=KMeans_fit.transform(scaler_data)\n",
    "\n",
    "preds.show(5,0)"
   ]
  },
  {
   "cell_type": "code",
   "execution_count": 85,
   "id": "59ab9d54",
   "metadata": {},
   "outputs": [
    {
     "data": {
      "image/png": "[encoded data removed]",
      "text/plain": [
       "<Figure size 640x480 with 1 Axes>"
      ]
     },
     "metadata": {},
     "output_type": "display_data"
    },
    {
     "data": {
      "image/png": "[encoded data removed]",
      "text/plain": [
       "<Figure size 640x480 with 1 Axes>"
      ]
     },
     "metadata": {},
     "output_type": "display_data"
    },
    {
     "data": {
      "image/png": "[encoded data removed]",
      "text/plain": [
       "<Figure size 640x480 with 1 Axes>"
      ]
     },
     "metadata": {},
     "output_type": "display_data"
    }
   ],
   "source": [
    "import matplotlib.pyplot as plt\n",
    "import seaborn as sns\n",
    "\n",
    "df_viz = preds.select('Recency','Frequency','Monetary','prediction')\n",
    "df_viz = df_viz.toPandas()\n",
    "avg_df = df_viz.groupby(['prediction'], as_index=False).mean()\n",
    "\n",
    "list1 = ['Recency','Frequency','Monetary']\n",
    "\n",
    "for i in list1:\n",
    "    sns.barplot(x='prediction',y=str(i),data=avg_df)\n",
    "    plt.show()"
   ]
  }
 ],
 "metadata": {
  "kernelspec": {
   "display_name": "Python 3",
   "language": "python",
   "name": "python3"
  },
  "language_info": {
   "codemirror_mode": {
    "name": "ipython",
    "version": 3
   },
   "file_extension": ".py",
   "mimetype": "text/x-python",
   "name": "python",
   "nbconvert_exporter": "python",
   "pygments_lexer": "ipython3",
   "version": "3.12.10"
  }
 },
 "nbformat": 4,
 "nbformat_minor": 5
}
